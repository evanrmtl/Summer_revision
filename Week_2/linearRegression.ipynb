{
 "cells": [
  {
   "cell_type": "code",
   "execution_count": null,
   "id": "afd3f287",
   "metadata": {},
   "outputs": [
    {
     "name": "stderr",
     "output_type": "stream",
     "text": [
      "c:\\Python312\\Lib\\site-packages\\tqdm\\auto.py:21: TqdmWarning: IProgress not found. Please update jupyter and ipywidgets. See https://ipywidgets.readthedocs.io/en/stable/user_install.html\n",
      "  from .autonotebook import tqdm as notebook_tqdm\n"
     ]
    }
   ],
   "source": [
    "import torch\n",
    "from torch.utils.data import dataloader\n",
    "from torch.utils.data import dataset\n",
    "import numpy as np\n",
    "import pandas as pd\n",
    "import matplotlib.pyplot as plt\n",
    "from datasets import load_dataset"
   ]
  },
  {
   "cell_type": "code",
   "execution_count": null,
   "id": "72e92238",
   "metadata": {},
   "outputs": [],
   "source": [
    "class CustomDataSet(Dataset):\n",
    "    def __init__(self):\n",
    "        self.df = load_dataset(\"gauss314/bitcoin_daily\")\n",
    "        self.labels = self.df.\n"
   ]
  },
  {
   "cell_type": "code",
   "execution_count": null,
   "id": "96896aba",
   "metadata": {},
   "outputs": [
    {
     "name": "stdout",
     "output_type": "stream",
     "text": [
      "{'date': '2013-04-28', 'price': 135.3, 'market_caps': 1500517590.0, 'total_volumes': 0.0}\n",
      "{'date': '2017-12-23', 'price': 15241.9164656487, 'market_caps': 255444795621.567, 'total_volumes': 5076754666.02441}\n",
      "{'date': '2021-03-13', 'price': 57353.86147197248, 'market_caps': 1069776383193.8628, 'total_volumes': 59984971691.807}\n"
     ]
    }
   ],
   "source": [
    "ds = load_dataset(\"gauss314/bitcoin_daily\")\n",
    "print(ds[\"train\"][0])\n",
    "split_ds = ds['train'].train_test_split(test_size=0.3, shuffle=False)\n",
    "print(split_ds['test'][0])\n",
    "print(split_ds['train'][0])"
   ]
  }
 ],
 "metadata": {
  "kernelspec": {
   "display_name": "Python 3",
   "language": "python",
   "name": "python3"
  },
  "language_info": {
   "codemirror_mode": {
    "name": "ipython",
    "version": 3
   },
   "file_extension": ".py",
   "mimetype": "text/x-python",
   "name": "python",
   "nbconvert_exporter": "python",
   "pygments_lexer": "ipython3",
   "version": "3.12.10"
  }
 },
 "nbformat": 4,
 "nbformat_minor": 5
}
